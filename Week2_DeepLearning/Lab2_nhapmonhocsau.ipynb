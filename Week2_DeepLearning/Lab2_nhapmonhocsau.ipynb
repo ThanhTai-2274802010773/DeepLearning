{
  "nbformat": 4,
  "nbformat_minor": 0,
  "metadata": {
    "colab": {
      "provenance": []
    },
    "kernelspec": {
      "name": "python3",
      "display_name": "Python 3"
    },
    "language_info": {
      "name": "python"
    }
  },
  "cells": [
    {
      "cell_type": "code",
      "execution_count": 9,
      "metadata": {
        "id": "yX4NhWZ4HJf6"
      },
      "outputs": [],
      "source": [
        "import tensorflow as tf\n",
        "import numpy as np"
      ]
    },
    {
      "cell_type": "code",
      "source": [
        "#Tensor 0-chiều\n",
        "rank_0_tensor = tf.constant(4)\n",
        "print(rank_0_tensor)\n",
        "r1 = tf.constant(9, tf.int16)\n",
        "print(r1)\n",
        "r1_float = tf.constant(1.12, tf.float32)\n",
        "print(r1_float)\n",
        "r1_string = tf.constant(\"Hello VanLang University\", tf.string)\n",
        "print(r1_string)"
      ],
      "metadata": {
        "colab": {
          "base_uri": "https://localhost:8080/"
        },
        "id": "qbXrPi-sHdV_",
        "outputId": "b463701d-554d-4695-c57f-f2259cd1541e"
      },
      "execution_count": 3,
      "outputs": [
        {
          "output_type": "stream",
          "name": "stdout",
          "text": [
            "tf.Tensor(4, shape=(), dtype=int32)\n",
            "tf.Tensor(9, shape=(), dtype=int16)\n",
            "tf.Tensor(1.12, shape=(), dtype=float32)\n",
            "tf.Tensor(b'Hello VanLang University', shape=(), dtype=string)\n"
          ]
        }
      ]
    },
    {
      "cell_type": "code",
      "source": [
        "#Tensor 1-chiều\n",
        "rank_1_tensor = tf.constant = tf.constant([2.0, 3.0, 4.0])\n",
        "print(rank_1_tensor)"
      ],
      "metadata": {
        "colab": {
          "base_uri": "https://localhost:8080/"
        },
        "id": "vUJrlKauHwEX",
        "outputId": "68060734-c6e6-4e6e-c887-dba2d7969728"
      },
      "execution_count": 4,
      "outputs": [
        {
          "output_type": "stream",
          "name": "stdout",
          "text": [
            "tf.Tensor([2. 3. 4.], shape=(3,), dtype=float32)\n"
          ]
        }
      ]
    },
    {
      "cell_type": "code",
      "source": [
        "import tensorflow as tf\n",
        "\n",
        "# Tensor 2-chiều(ma trận)\n",
        "rank_2_tensor = tf.constant([[1, 2],\n",
        "                             [3, 4],\n",
        "                             [5, 6]], dtype=tf.float16)\n",
        "\n",
        "print(rank_2_tensor)"
      ],
      "metadata": {
        "colab": {
          "base_uri": "https://localhost:8080/",
          "height": 216
        },
        "id": "Grsi8pZvImgv",
        "outputId": "614dadce-ae07-4e1e-a832-a1dc5ec3bb8a"
      },
      "execution_count": 22,
      "outputs": [
        {
          "output_type": "error",
          "ename": "TypeError",
          "evalue": "'tensorflow.python.framework.ops.EagerTensor' object is not callable",
          "traceback": [
            "\u001b[0;31m---------------------------------------------------------------------------\u001b[0m",
            "\u001b[0;31mTypeError\u001b[0m                                 Traceback (most recent call last)",
            "\u001b[0;32m<ipython-input-22-890b43f9292c>\u001b[0m in \u001b[0;36m<cell line: 0>\u001b[0;34m()\u001b[0m\n\u001b[1;32m      2\u001b[0m \u001b[0;34m\u001b[0m\u001b[0m\n\u001b[1;32m      3\u001b[0m \u001b[0;31m# Tensor 2-chiều(ma trận)\u001b[0m\u001b[0;34m\u001b[0m\u001b[0;34m\u001b[0m\u001b[0m\n\u001b[0;32m----> 4\u001b[0;31m rank_2_tensor = tf.constant([[1, 2],\n\u001b[0m\u001b[1;32m      5\u001b[0m                              \u001b[0;34m[\u001b[0m\u001b[0;36m3\u001b[0m\u001b[0;34m,\u001b[0m \u001b[0;36m4\u001b[0m\u001b[0;34m]\u001b[0m\u001b[0;34m,\u001b[0m\u001b[0;34m\u001b[0m\u001b[0;34m\u001b[0m\u001b[0m\n\u001b[1;32m      6\u001b[0m                              [5, 6]], dtype=tf.float16)\n",
            "\u001b[0;31mTypeError\u001b[0m: 'tensorflow.python.framework.ops.EagerTensor' object is not callable"
          ]
        }
      ]
    },
    {
      "cell_type": "code",
      "source": [
        "# Tensor n-chiều(nhiều trục)\n",
        "import tensorflow as tf\n",
        "rank_3_tensor = tf.constant([\n",
        "    [[0, 1, 2, 3, 4],\n",
        "      [5, 6, 7, 8, 9]],\n",
        "    [[10, 11, 12, 13, 14],\n",
        "      [15, 16, 17, 18, 19]],\n",
        "    [[20, 21, 22, 23, 24],\n",
        "      [25, 26, 27, 28, 29]],\n",
        "])\n",
        "\n",
        "print(rank_3_tensor)\n",
        "print('shape:', rank_3_tensor.shape)\n",
        "print('type of tensor:', rank_3_tensor.dtype)"
      ],
      "metadata": {
        "colab": {
          "base_uri": "https://localhost:8080/",
          "height": 216
        },
        "id": "Pkqd8MXEKtyw",
        "outputId": "35cec7d6-5456-4cc0-ea97-eb01e65a9643"
      },
      "execution_count": 25,
      "outputs": [
        {
          "output_type": "error",
          "ename": "TypeError",
          "evalue": "'tensorflow.python.framework.ops.EagerTensor' object is not callable",
          "traceback": [
            "\u001b[0;31m---------------------------------------------------------------------------\u001b[0m",
            "\u001b[0;31mTypeError\u001b[0m                                 Traceback (most recent call last)",
            "\u001b[0;32m<ipython-input-25-2e8bdb000ef9>\u001b[0m in \u001b[0;36m<cell line: 0>\u001b[0;34m()\u001b[0m\n\u001b[1;32m      1\u001b[0m \u001b[0;31m# Tensor n-chiều(nhiều trục)\u001b[0m\u001b[0;34m\u001b[0m\u001b[0;34m\u001b[0m\u001b[0m\n\u001b[1;32m      2\u001b[0m \u001b[0;32mimport\u001b[0m \u001b[0mtensorflow\u001b[0m \u001b[0;32mas\u001b[0m \u001b[0mtf\u001b[0m\u001b[0;34m\u001b[0m\u001b[0;34m\u001b[0m\u001b[0m\n\u001b[0;32m----> 3\u001b[0;31m rank_3_tensor = tf.constant([\n\u001b[0m\u001b[1;32m      4\u001b[0m     [[0, 1, 2, 3, 4], \n\u001b[1;32m      5\u001b[0m       [5, 6, 7, 8, 9]], \n",
            "\u001b[0;31mTypeError\u001b[0m: 'tensorflow.python.framework.ops.EagerTensor' object is not callable"
          ]
        }
      ]
    },
    {
      "cell_type": "code",
      "source": [
        "t_zero = tf.zeros([10])\n",
        "print(t_zero)"
      ],
      "metadata": {
        "colab": {
          "base_uri": "https://localhost:8080/"
        },
        "id": "mJQHlwIjQ-t3",
        "outputId": "1e945526-d995-4883-8d0d-245c80dafc6c"
      },
      "execution_count": 28,
      "outputs": [
        {
          "output_type": "stream",
          "name": "stdout",
          "text": [
            "tf.Tensor([0. 0. 0. 0. 0. 0. 0. 0. 0. 0.], shape=(10,), dtype=float32)\n"
          ]
        }
      ]
    },
    {
      "cell_type": "code",
      "source": [
        "t_2_zero = tf.zeros([3, 3])\n",
        "print(t_2_zero)"
      ],
      "metadata": {
        "colab": {
          "base_uri": "https://localhost:8080/"
        },
        "id": "XZEfvakvRMO0",
        "outputId": "af081387-d914-4a5a-bbe4-934633f10e3d"
      },
      "execution_count": 29,
      "outputs": [
        {
          "output_type": "stream",
          "name": "stdout",
          "text": [
            "tf.Tensor(\n",
            "[[0. 0. 0.]\n",
            " [0. 0. 0.]\n",
            " [0. 0. 0.]], shape=(3, 3), dtype=float32)\n"
          ]
        }
      ]
    },
    {
      "cell_type": "code",
      "source": [
        "t_3_zero = tf.zeros([3, 3, 5])\n",
        "print(t_3_zero)"
      ],
      "metadata": {
        "colab": {
          "base_uri": "https://localhost:8080/"
        },
        "id": "GswDtXt0RXCt",
        "outputId": "eea9695c-bf9c-4630-dec3-9e048a48fc01"
      },
      "execution_count": 30,
      "outputs": [
        {
          "output_type": "stream",
          "name": "stdout",
          "text": [
            "tf.Tensor(\n",
            "[[[0. 0. 0. 0. 0.]\n",
            "  [0. 0. 0. 0. 0.]\n",
            "  [0. 0. 0. 0. 0.]]\n",
            "\n",
            " [[0. 0. 0. 0. 0.]\n",
            "  [0. 0. 0. 0. 0.]\n",
            "  [0. 0. 0. 0. 0.]]\n",
            "\n",
            " [[0. 0. 0. 0. 0.]\n",
            "  [0. 0. 0. 0. 0.]\n",
            "  [0. 0. 0. 0. 0.]]], shape=(3, 3, 5), dtype=float32)\n"
          ]
        }
      ]
    },
    {
      "cell_type": "code",
      "source": [
        "t_one = tf.ones([10])\n",
        "print(t_one)"
      ],
      "metadata": {
        "colab": {
          "base_uri": "https://localhost:8080/"
        },
        "id": "WHeck3grRduq",
        "outputId": "f2c8531f-688c-4d2e-d1c2-1a970165eee5"
      },
      "execution_count": 31,
      "outputs": [
        {
          "output_type": "stream",
          "name": "stdout",
          "text": [
            "tf.Tensor([1. 1. 1. 1. 1. 1. 1. 1. 1. 1.], shape=(10,), dtype=float32)\n"
          ]
        }
      ]
    },
    {
      "cell_type": "code",
      "source": [
        "t_2_one =tf.ones([3, 3])\n",
        "print(t_2_one)"
      ],
      "metadata": {
        "colab": {
          "base_uri": "https://localhost:8080/"
        },
        "id": "rTBS8Qh1Rhhk",
        "outputId": "332b30a6-9cbc-4237-832c-4b079bb4b1a3"
      },
      "execution_count": 32,
      "outputs": [
        {
          "output_type": "stream",
          "name": "stdout",
          "text": [
            "tf.Tensor(\n",
            "[[1. 1. 1.]\n",
            " [1. 1. 1.]\n",
            " [1. 1. 1.]], shape=(3, 3), dtype=float32)\n"
          ]
        }
      ]
    },
    {
      "cell_type": "code",
      "source": [
        "t_3_one =tf.ones([3, 3, 5])\n",
        "print(t_3_one)"
      ],
      "metadata": {
        "colab": {
          "base_uri": "https://localhost:8080/"
        },
        "id": "0NK6ZPXORocJ",
        "outputId": "2f5a2fc8-069e-41b9-96df-4612a0b75c15"
      },
      "execution_count": 33,
      "outputs": [
        {
          "output_type": "stream",
          "name": "stdout",
          "text": [
            "tf.Tensor(\n",
            "[[[1. 1. 1. 1. 1.]\n",
            "  [1. 1. 1. 1. 1.]\n",
            "  [1. 1. 1. 1. 1.]]\n",
            "\n",
            " [[1. 1. 1. 1. 1.]\n",
            "  [1. 1. 1. 1. 1.]\n",
            "  [1. 1. 1. 1. 1.]]\n",
            "\n",
            " [[1. 1. 1. 1. 1.]\n",
            "  [1. 1. 1. 1. 1.]\n",
            "  [1. 1. 1. 1. 1.]]], shape=(3, 3, 5), dtype=float32)\n"
          ]
        }
      ]
    },
    {
      "cell_type": "code",
      "source": [
        "t_1 = tf.fill(3, 10)\n",
        "print(t_1)"
      ],
      "metadata": {
        "colab": {
          "base_uri": "https://localhost:8080/"
        },
        "id": "DnfYmB8dRvU4",
        "outputId": "c636e50e-105a-4fa3-aca6-be3e25605a84"
      },
      "execution_count": 34,
      "outputs": [
        {
          "output_type": "stream",
          "name": "stdout",
          "text": [
            "tf.Tensor([10 10 10], shape=(3,), dtype=int32)\n"
          ]
        }
      ]
    },
    {
      "cell_type": "code",
      "source": [
        "t_2 = tf.fill([3, 3], 9)\n",
        "print(t_2)"
      ],
      "metadata": {
        "colab": {
          "base_uri": "https://localhost:8080/"
        },
        "id": "cj7w_MqKR0Q_",
        "outputId": "4cb6855f-f0a6-4042-f1ac-4ef89be9c838"
      },
      "execution_count": 35,
      "outputs": [
        {
          "output_type": "stream",
          "name": "stdout",
          "text": [
            "tf.Tensor(\n",
            "[[9 9 9]\n",
            " [9 9 9]\n",
            " [9 9 9]], shape=(3, 3), dtype=int32)\n"
          ]
        }
      ]
    },
    {
      "cell_type": "code",
      "source": [
        "lin_tensor = tf.linspace(5.0, 20.0, 5)\n",
        "print(lin_tensor)"
      ],
      "metadata": {
        "colab": {
          "base_uri": "https://localhost:8080/"
        },
        "id": "9YGDVfsxR4mG",
        "outputId": "8376c932-d9f2-4a46-e2cb-8cf26c2eac3b"
      },
      "execution_count": 36,
      "outputs": [
        {
          "output_type": "stream",
          "name": "stdout",
          "text": [
            "tf.Tensor([ 5.    8.75 12.5  16.25 20.  ], shape=(5,), dtype=float32)\n"
          ]
        }
      ]
    },
    {
      "cell_type": "code",
      "source": [
        "range_tensor = tf.range(3.0, 7.0, delta =0.5)\n",
        "print(range_tensor)"
      ],
      "metadata": {
        "colab": {
          "base_uri": "https://localhost:8080/"
        },
        "id": "QbMTckSIR_-V",
        "outputId": "bc8f52c7-a08c-4274-c75c-6d5b133db215"
      },
      "execution_count": 37,
      "outputs": [
        {
          "output_type": "stream",
          "name": "stdout",
          "text": [
            "tf.Tensor([3.  3.5 4.  4.5 5.  5.5 6.  6.5], shape=(8,), dtype=float32)\n"
          ]
        }
      ]
    },
    {
      "cell_type": "code",
      "source": [
        "range_tensor = tf.range(3.0, delta = 0.5)\n",
        "print(range_tensor)"
      ],
      "metadata": {
        "colab": {
          "base_uri": "https://localhost:8080/"
        },
        "id": "YHqEDATFSKme",
        "outputId": "80841b4c-e182-4bfd-bb2c-f9c978a220a1"
      },
      "execution_count": 38,
      "outputs": [
        {
          "output_type": "stream",
          "name": "stdout",
          "text": [
            "tf.Tensor([0.  0.5 1.  1.5 2.  2.5], shape=(6,), dtype=float32)\n"
          ]
        }
      ]
    },
    {
      "cell_type": "code",
      "source": [
        "range_tensor = tf.random.normal([5])\n",
        "print(range_tensor)"
      ],
      "metadata": {
        "colab": {
          "base_uri": "https://localhost:8080/"
        },
        "id": "Z2Tu9RvfSch-",
        "outputId": "055e92f4-1287-49cc-91f7-42f49f55ae51"
      },
      "execution_count": 39,
      "outputs": [
        {
          "output_type": "stream",
          "name": "stdout",
          "text": [
            "tf.Tensor([ 0.23445092 -0.19531867  0.50689423  2.1191952   1.2022612 ], shape=(5,), dtype=float32)\n"
          ]
        }
      ]
    },
    {
      "cell_type": "code",
      "source": [
        "range_tensor = tf.random.uniform([3, 3])\n",
        "print(range_tensor)"
      ],
      "metadata": {
        "colab": {
          "base_uri": "https://localhost:8080/"
        },
        "id": "5mji_5GuSnHo",
        "outputId": "ef4e0f35-0911-48a6-a579-6ad9bdd78892"
      },
      "execution_count": 40,
      "outputs": [
        {
          "output_type": "stream",
          "name": "stdout",
          "text": [
            "tf.Tensor(\n",
            "[[0.3295095  0.32652855 0.0810411 ]\n",
            " [0.4569955  0.64170516 0.00730848]\n",
            " [0.1123724  0.51106787 0.99905133]], shape=(3, 3), dtype=float32)\n"
          ]
        }
      ]
    },
    {
      "cell_type": "code",
      "source": [
        "range_tensor = tf.random.normal([5])\n",
        "print(range_tensor)"
      ],
      "metadata": {
        "colab": {
          "base_uri": "https://localhost:8080/"
        },
        "id": "IOeI7J4WSsd8",
        "outputId": "ae78a82f-8c95-4e83-c82c-db688fbfc1dd"
      },
      "execution_count": 41,
      "outputs": [
        {
          "output_type": "stream",
          "name": "stdout",
          "text": [
            "tf.Tensor([-1.0314088   0.2145893  -1.7714021  -0.24859113 -0.522188  ], shape=(5,), dtype=float32)\n"
          ]
        }
      ]
    },
    {
      "cell_type": "code",
      "source": [
        "range_tensor = tf.random.truncated_normal([3, 2])\n",
        "print(range_tensor)"
      ],
      "metadata": {
        "colab": {
          "base_uri": "https://localhost:8080/"
        },
        "id": "a8bY6Ho3SzF5",
        "outputId": "e2c047e4-5b3d-4119-9bec-c841ebde7c19"
      },
      "execution_count": 42,
      "outputs": [
        {
          "output_type": "stream",
          "name": "stdout",
          "text": [
            "tf.Tensor(\n",
            "[[-0.18493575 -0.08260385]\n",
            " [-0.34577477 -0.12870641]\n",
            " [ 0.3522634   0.5213144 ]], shape=(3, 2), dtype=float32)\n"
          ]
        }
      ]
    },
    {
      "cell_type": "code",
      "source": [
        "range_tensor = tf.random.truncated_normal([3, 2, 2])\n",
        "print(range_tensor)"
      ],
      "metadata": {
        "colab": {
          "base_uri": "https://localhost:8080/"
        },
        "id": "OpeZJmIZTBL7",
        "outputId": "1714c01b-ba45-423f-b76f-e91b281c684d"
      },
      "execution_count": 44,
      "outputs": [
        {
          "output_type": "stream",
          "name": "stdout",
          "text": [
            "tf.Tensor(\n",
            "[[[-0.49795786  1.3827486 ]\n",
            "  [ 0.12775727 -0.6814484 ]]\n",
            "\n",
            " [[-0.07446695  0.32606333]\n",
            "  [-0.7723279   1.0772994 ]]\n",
            "\n",
            " [[ 1.5246104  -0.22155711]\n",
            "  [-0.19490525  0.42935178]]], shape=(3, 2, 2), dtype=float32)\n"
          ]
        }
      ]
    },
    {
      "cell_type": "code",
      "source": [
        "range_tensor = tf.random.uniform([5], minval =10, maxval = 20)\n",
        "print(range_tensor)"
      ],
      "metadata": {
        "colab": {
          "base_uri": "https://localhost:8080/"
        },
        "id": "dsUGxgQWTQKe",
        "outputId": "bcbdae1d-05d2-4c65-d881-f0041b09424a"
      },
      "execution_count": 45,
      "outputs": [
        {
          "output_type": "stream",
          "name": "stdout",
          "text": [
            "tf.Tensor([13.037046 10.424167 19.368553 11.412266 11.537709], shape=(5,), dtype=float32)\n"
          ]
        }
      ]
    },
    {
      "cell_type": "code",
      "source": [
        "range_tensor = tf.random.uniform([3, 2], minval = 10, maxval =20)\n",
        "print(range_tensor)"
      ],
      "metadata": {
        "colab": {
          "base_uri": "https://localhost:8080/"
        },
        "id": "BQ07KFsCTug2",
        "outputId": "50ae4fff-2abc-4701-a305-8ea18499471d"
      },
      "execution_count": 47,
      "outputs": [
        {
          "output_type": "stream",
          "name": "stdout",
          "text": [
            "tf.Tensor(\n",
            "[[12.574063 12.353097]\n",
            " [10.292744 10.320331]\n",
            " [11.968141 18.560188]], shape=(3, 2), dtype=float32)\n"
          ]
        }
      ]
    },
    {
      "cell_type": "code",
      "source": [
        "range_tensor = tf.random.uniform([3, 2, 5], minval = 10, maxval =20)\n",
        "print(range_tensor)"
      ],
      "metadata": {
        "colab": {
          "base_uri": "https://localhost:8080/"
        },
        "id": "_TtIdXuUTeI-",
        "outputId": "e055221a-38c2-47c7-8b9c-cbe2c1d87dfb"
      },
      "execution_count": 46,
      "outputs": [
        {
          "output_type": "stream",
          "name": "stdout",
          "text": [
            "tf.Tensor(\n",
            "[[[16.389236  11.061564  16.170145  11.410198  14.508218 ]\n",
            "  [19.517471  14.506224  12.196445  15.287668  15.9654255]]\n",
            "\n",
            " [[18.400402  10.655684  17.91586   13.066528  16.461176 ]\n",
            "  [18.474953  17.680363  14.994832  10.250036  17.303024 ]]\n",
            "\n",
            " [[19.67274   19.592218  15.214443  15.315983  17.727827 ]\n",
            "  [10.800751  10.489264  19.804348  13.281932  18.345774 ]]], shape=(3, 2, 5), dtype=float32)\n"
          ]
        }
      ]
    },
    {
      "cell_type": "code",
      "source": [
        "range_tensor = tf.random.uniform([5], minval = 10, maxval = 20)\n",
        "print(range_tensor)\n",
        "print(tf.random.shuffle(range_tensor))"
      ],
      "metadata": {
        "colab": {
          "base_uri": "https://localhost:8080/"
        },
        "id": "T0HMWpukT0-U",
        "outputId": "3be7cd5a-8ea1-4202-8a3f-799912e8927d"
      },
      "execution_count": 48,
      "outputs": [
        {
          "output_type": "stream",
          "name": "stdout",
          "text": [
            "tf.Tensor([12.425107  14.1325035 11.240215  17.602703  11.063034 ], shape=(5,), dtype=float32)\n",
            "tf.Tensor([11.063034  17.602703  14.1325035 11.240215  12.425107 ], shape=(5,), dtype=float32)\n"
          ]
        }
      ]
    },
    {
      "cell_type": "code",
      "source": [
        "t_float = tf.constant(3.9, tf.float32)\n",
        "print(t_float,'---', t_float.dtype)\n",
        "t_int = tf.cast(t_float, tf.int32)\n",
        "print(t_int,'---', t_int.dtype)"
      ],
      "metadata": {
        "colab": {
          "base_uri": "https://localhost:8080/",
          "height": 198
        },
        "id": "AjFNC7_XUF0G",
        "outputId": "d05e9c86-cc41-4ab4-8fd1-7596c92c13f5"
      },
      "execution_count": 49,
      "outputs": [
        {
          "output_type": "error",
          "ename": "TypeError",
          "evalue": "'tensorflow.python.framework.ops.EagerTensor' object is not callable",
          "traceback": [
            "\u001b[0;31m---------------------------------------------------------------------------\u001b[0m",
            "\u001b[0;31mTypeError\u001b[0m                                 Traceback (most recent call last)",
            "\u001b[0;32m<ipython-input-49-ff801f81b554>\u001b[0m in \u001b[0;36m<cell line: 0>\u001b[0;34m()\u001b[0m\n\u001b[0;32m----> 1\u001b[0;31m \u001b[0mt_float\u001b[0m \u001b[0;34m=\u001b[0m \u001b[0mtf\u001b[0m\u001b[0;34m.\u001b[0m\u001b[0mconstant\u001b[0m\u001b[0;34m(\u001b[0m\u001b[0;36m3.9\u001b[0m\u001b[0;34m,\u001b[0m \u001b[0mtf\u001b[0m\u001b[0;34m.\u001b[0m\u001b[0mfloat32\u001b[0m\u001b[0;34m)\u001b[0m\u001b[0;34m\u001b[0m\u001b[0;34m\u001b[0m\u001b[0m\n\u001b[0m\u001b[1;32m      2\u001b[0m \u001b[0mprint\u001b[0m\u001b[0;34m(\u001b[0m\u001b[0mt_float\u001b[0m\u001b[0;34m,\u001b[0m\u001b[0;34m'---'\u001b[0m\u001b[0;34m,\u001b[0m \u001b[0mt_float\u001b[0m\u001b[0;34m.\u001b[0m\u001b[0mdtype\u001b[0m\u001b[0;34m)\u001b[0m\u001b[0;34m\u001b[0m\u001b[0;34m\u001b[0m\u001b[0m\n\u001b[1;32m      3\u001b[0m \u001b[0mt_int\u001b[0m \u001b[0;34m=\u001b[0m \u001b[0mtf\u001b[0m\u001b[0;34m.\u001b[0m\u001b[0mcast\u001b[0m\u001b[0;34m(\u001b[0m\u001b[0mt_float\u001b[0m\u001b[0;34m,\u001b[0m \u001b[0mtf\u001b[0m\u001b[0;34m.\u001b[0m\u001b[0mint32\u001b[0m\u001b[0;34m)\u001b[0m\u001b[0;34m\u001b[0m\u001b[0;34m\u001b[0m\u001b[0m\n\u001b[1;32m      4\u001b[0m \u001b[0mprint\u001b[0m\u001b[0;34m(\u001b[0m\u001b[0mt_int\u001b[0m\u001b[0;34m,\u001b[0m\u001b[0;34m'---'\u001b[0m\u001b[0;34m,\u001b[0m \u001b[0mt_int\u001b[0m\u001b[0;34m.\u001b[0m\u001b[0mdtype\u001b[0m\u001b[0;34m)\u001b[0m\u001b[0;34m\u001b[0m\u001b[0;34m\u001b[0m\u001b[0m\n",
            "\u001b[0;31mTypeError\u001b[0m: 'tensorflow.python.framework.ops.EagerTensor' object is not callable"
          ]
        }
      ]
    }
  ]
}